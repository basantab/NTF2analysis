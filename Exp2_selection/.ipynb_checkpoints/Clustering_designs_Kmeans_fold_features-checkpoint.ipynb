{
 "cells": [
  {
   "cell_type": "code",
   "execution_count": 1,
   "metadata": {},
   "outputs": [],
   "source": [
    "%matplotlib inline\n",
    "import matplotlib as mpl\n",
    "import matplotlib.pyplot as plt\n",
    "import pandas as pd\n",
    "import seaborn as sns\n",
    "import numpy as np\n",
    "import glob\n",
    "import scipy as scp"
   ]
  },
  {
   "cell_type": "code",
   "execution_count": 2,
   "metadata": {},
   "outputs": [],
   "source": [
    "import sklearn\n",
    "from sklearn.linear_model import LinearRegression, LogisticRegression, LogisticRegressionCV\n",
    "from sklearn.metrics import roc_curve, roc_auc_score, auc\n",
    "from sklearn.preprocessing import scale, StandardScaler\n",
    "from sklearn.utils import shuffle"
   ]
  },
  {
   "cell_type": "code",
   "execution_count": 8,
   "metadata": {},
   "outputs": [],
   "source": [
    "all_features_main_df = pd.read_csv('./all_features_new_sec_bulge_place.csv',index_col=0)\n"
   ]
  },
  {
   "cell_type": "code",
   "execution_count": 10,
   "metadata": {},
   "outputs": [
    {
     "name": "stdout",
     "output_type": "stream",
     "text": [
      "['Opening', 'has_cHelix', 'h1_len', 'ExtendedE6', 'CurvedLongArm', 'prot', 'gly_resc_nres', 'base_width', 'short_arm_l', 'H3_len', 'long_arm_l', 'Second_b_place', 'pocket_vol', 'scaffold_len', 'E3_MainBulgeCurve', 'Second_bulge_E3', 'hairpin_len', 'dist', 'long_arm_ang', 'shoot']\n"
     ]
    }
   ],
   "source": [
    "non_fold = ['trp_lock_score','BuriedHyphobSAperRes', 'Net_charge', 'all_buns','non_ala_hyphob_percent',\\\n",
    "            'hx_sc','gly_resc_score','score_res_betacart', 'sc_buns', 'sspred', 'av_strand_hb']\n",
    "fold_features = [ i for i in all_features_main_df.columns if i not in non_fold ]\n",
    "main_df = all_features_main_df[fold_features]\n",
    "print(fold_features)"
   ]
  },
  {
   "cell_type": "code",
   "execution_count": 11,
   "metadata": {},
   "outputs": [],
   "source": [
    "from sklearn.cluster import KMeans"
   ]
  },
  {
   "cell_type": "code",
   "execution_count": 12,
   "metadata": {},
   "outputs": [
    {
     "name": "stderr",
     "output_type": "stream",
     "text": [
      "/software/conda/envs/pyrosetta/lib/python3.7/site-packages/ipykernel_launcher.py:1: DataConversionWarning: Data with input dtype int64, float64 were all converted to float64 by the scale function.\n",
      "  \"\"\"Entry point for launching an IPython kernel.\n"
     ]
    }
   ],
   "source": [
    "scaled = scale(main_df)"
   ]
  },
  {
   "cell_type": "code",
   "execution_count": 13,
   "metadata": {},
   "outputs": [
    {
     "data": {
      "text/plain": [
       "KMeans(algorithm='auto', copy_x=True, init='k-means++', max_iter=300,\n",
       "    n_clusters=6550, n_init=10, n_jobs=None, precompute_distances='auto',\n",
       "    random_state=0, tol=0.0001, verbose=0)"
      ]
     },
     "execution_count": 13,
     "metadata": {},
     "output_type": "execute_result"
    }
   ],
   "source": [
    "num_clusters = 6550\n",
    "km = KMeans(n_clusters=num_clusters, random_state=0)\n",
    "km.fit(scaled)"
   ]
  },
  {
   "cell_type": "code",
   "execution_count": 14,
   "metadata": {},
   "outputs": [],
   "source": [
    "from sklearn.metrics import pairwise_distances_argmin_min"
   ]
  },
  {
   "cell_type": "code",
   "execution_count": 15,
   "metadata": {},
   "outputs": [],
   "source": [
    "# Getting structures closest to the cluster centers:\n",
    "\n",
    "cluster_labels = km.labels_.tolist()\n",
    "centers = np.array(km.cluster_centers_)\n",
    "cluster_medoids = []\n",
    "\n",
    "for i in range(num_clusters):\n",
    "    center_vec = [centers[i]]\n",
    "    data_idx_within_i_cluster = [ idx for idx, clu_num in enumerate(cluster_labels) if clu_num == i ]\n",
    "\n",
    "    one_cluster_tf_matrix = np.zeros( (  len(data_idx_within_i_cluster) , centers.shape[1] ) )\n",
    "    for row_num, data_idx in enumerate(data_idx_within_i_cluster):\n",
    "        one_row = scaled[data_idx]\n",
    "        one_cluster_tf_matrix[row_num] = one_row\n",
    "\n",
    "    closest, _ = pairwise_distances_argmin_min(center_vec, one_cluster_tf_matrix)\n",
    "    closest_idx_in_one_cluster_tf_matrix = closest[0]\n",
    "    closest_data_row_num = data_idx_within_i_cluster[closest_idx_in_one_cluster_tf_matrix]\n",
    "    data_id = (main_df.index[closest_data_row_num],i)\n",
    "\n",
    "    cluster_medoids.append(data_id)\n",
    "\n",
    "#closest_data = list(set(closest_data))\n",
    "\n",
    "assert len(cluster_medoids) == num_clusters"
   ]
  },
  {
   "cell_type": "code",
   "execution_count": 16,
   "metadata": {},
   "outputs": [],
   "source": [
    "# Output 6550 cluster medoid list:\n",
    "handle = open('6550_fold_features_NF_cluster_medoids_new.list','w')\n",
    "for i in [j[0] for j in cluster_medoids]:\n",
    "    handle.write(i+'\\n')\n",
    "handle.close()"
   ]
  },
  {
   "cell_type": "code",
   "execution_count": 17,
   "metadata": {},
   "outputs": [],
   "source": [
    "# Output cluster assignments:\n",
    "handle = open('6550_cluster_by_fold_features_NF_cluster_assignment_new.list','w')\n",
    "for i in [i for i in zip(main_df.index,cluster_labels)]:\n",
    "    handle.write(i[0]+' '+'%i'%(i[1])+'\\n')\n",
    "handle.close()"
   ]
  },
  {
   "cell_type": "code",
   "execution_count": 18,
   "metadata": {},
   "outputs": [
    {
     "data": {
      "text/plain": [
       "{105, 106, 107, 108, 109, 110, 111, 112, 113, 114, 115, 116, 117, 118, 119}"
      ]
     },
     "execution_count": 18,
     "metadata": {},
     "output_type": "execute_result"
    }
   ],
   "source": [
    "set(all_features_main_df.scaffold_len)"
   ]
  },
  {
   "cell_type": "code",
   "execution_count": 22,
   "metadata": {},
   "outputs": [
    {
     "data": {
      "text/plain": [
       "array([1655, 5856, 2756, ...,  554, 2886, 4074], dtype=int32)"
      ]
     },
     "execution_count": 22,
     "metadata": {},
     "output_type": "execute_result"
    }
   ],
   "source": [
    "km.labels_"
   ]
  },
  {
   "cell_type": "code",
   "execution_count": 23,
   "metadata": {},
   "outputs": [],
   "source": [
    "import collections\n",
    "counter=collections.Counter(km.labels_)\n",
    "#print(counter)"
   ]
  },
  {
   "cell_type": "code",
   "execution_count": 24,
   "metadata": {},
   "outputs": [],
   "source": [
    "stable_list = open('./high_confidence_desigsn_sc_above_1.list','r')\n",
    "stable_lines = [ line[:-1] for line in stable_list.readlines() ]\n",
    "stable_list.close()"
   ]
  },
  {
   "cell_type": "code",
   "execution_count": 25,
   "metadata": {},
   "outputs": [],
   "source": [
    "#Mix up the stable list to randomize the selected member of the cluster:\n",
    "import random\n",
    "random.Random(0).shuffle(stable_lines)\n",
    "# Get one member of each cluster:\n",
    "cluster_to_stable_rep = {}\n",
    "for i in [i for i in zip(main_df.index,cluster_labels)]:\n",
    "    if i[1] not in cluster_to_stable_rep.keys():\n",
    "        cluster_to_stable_rep[i[1]] = []\n",
    "    if len(cluster_to_stable_rep[i[1]]) == 1:\n",
    "        continue\n",
    "    if i[0][:-4] in stable_lines:\n",
    "        cluster_to_stable_rep[i[1]].append(i[0])\n",
    "        "
   ]
  },
  {
   "cell_type": "code",
   "execution_count": 26,
   "metadata": {},
   "outputs": [
    {
     "name": "stdout",
     "output_type": "stream",
     "text": [
      "6025\n"
     ]
    }
   ],
   "source": [
    "# Some statistics:\n",
    "# Number of stable designs collected above:\n",
    "print(len([ cluster_to_stable_rep[i][0] for i in cluster_to_stable_rep.keys() if len(cluster_to_stable_rep[i]) > 0 ]))"
   ]
  },
  {
   "cell_type": "code",
   "execution_count": 27,
   "metadata": {},
   "outputs": [],
   "source": [
    "# Output 6025 clusters:\n",
    "handle = open('6025_fold_features_NF_stable_cluster_reps.list','w')\n",
    "stable_cluster_representatives = [ cluster_to_stable_rep[i][0] for i in cluster_to_stable_rep.keys() if len(cluster_to_stable_rep[i]) > 0 ]\n",
    "for des in stable_cluster_representatives:\n",
    "    handle.write(des+'\\n')\n",
    "handle.close()"
   ]
  },
  {
   "cell_type": "code",
   "execution_count": 28,
   "metadata": {},
   "outputs": [
    {
     "data": {
      "text/plain": [
       "10073"
      ]
     },
     "execution_count": 28,
     "metadata": {},
     "output_type": "execute_result"
    }
   ],
   "source": [
    "len(stable_lines)"
   ]
  },
  {
   "cell_type": "code",
   "execution_count": null,
   "metadata": {},
   "outputs": [],
   "source": []
  }
 ],
 "metadata": {
  "kernelspec": {
   "display_name": "PyRosetta (Python 3.7)",
   "language": "python",
   "name": "pyrosetta"
  },
  "language_info": {
   "codemirror_mode": {
    "name": "ipython",
    "version": 3
   },
   "file_extension": ".py",
   "mimetype": "text/x-python",
   "name": "python",
   "nbconvert_exporter": "python",
   "pygments_lexer": "ipython3",
   "version": "3.7.1"
  }
 },
 "nbformat": 4,
 "nbformat_minor": 2
}
