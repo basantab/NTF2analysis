{
 "cells": [
  {
   "cell_type": "code",
   "execution_count": 2,
   "metadata": {},
   "outputs": [],
   "source": [
    "%matplotlib inline\n",
    "import matplotlib as mpl\n",
    "import matplotlib.pyplot as plt\n",
    "import pandas as pd\n",
    "import seaborn as sns\n",
    "import numpy as np\n",
    "import glob\n",
    "import scipy as scp"
   ]
  },
  {
   "cell_type": "code",
   "execution_count": 3,
   "metadata": {},
   "outputs": [
    {
     "data": {
      "image/png": "[encoded data removed]",
      "text/plain": [
       "<Figure size 432x288 with 1 Axes>"
      ]
     },
     "metadata": {
      "needs_background": "light"
     },
     "output_type": "display_data"
    },
    {
     "name": "stdout",
     "output_type": "stream",
     "text": [
      "Pearson R: 0.30 p-val: 0.182\n"
     ]
    }
   ],
   "source": [
    "rd1 = [\"BBM2nHm0111\",\n",
    "\"BBM2nHm0481\",\n",
    "\"BBM2nHm0589\",\n",
    "\"BBMHCYm0000\",\n",
    "\"BBMHCYm0098\",\n",
    "\"BBMHCYm0142\",\n",
    "\"BB47nHm0104\"]\n",
    "rd2 = [\"IPQZYEHY (MC6)\",\n",
    "\"PVNDHOOV (MC9)\",\n",
    "\"QLNTLIPS (MC10)\",\n",
    "\"BMZQQOSL (MC2_1)\",\n",
    "\"CFRZAXWD (MC2_2)\",\n",
    "\"CGBTHRRH (MC2_3)\",\n",
    "\"CQXWMZNN (MC2_4)\",\n",
    "\"JZXIQIRH (MC2_7)\",\n",
    "\"WMNMRJMU (MC2_12)\",\n",
    "\"KVGAMRYX  (CAV1)\",\n",
    "\"VMXPYKBP (CAV6)\",\n",
    "\"CLYISCOE (POK3)\",\n",
    "\"UZNDBWRV (POK10)\",\n",
    "\"XXUZVSNH (POK11)\"]\n",
    "data = {\"BBM2nHm0111\":{\"DG\":-5.71,\"ss\":2.2},\\\n",
    "\"BBM2nHm0481\":{\"DG\":-2.46,\"ss\":2.51},\\\n",
    "\"BBM2nHm0589\":{\"DG\":-6.42,\"ss\":2.51},\\\n",
    "\"BBMHCYm0000\":{\"DG\":-5.24,\"ss\":1.76},\\\n",
    "\"BBMHCYm0098\":{\"DG\":-5.82,\"ss\":1.27},\\\n",
    "\"BBMHCYm0142\":{\"DG\":-5.13,\"ss\":1.98},\\\n",
    "\"BB47nHm0104\":{\"DG\":-7.52,\"ss\":2.08},\\\n",
    "\"IPQZYEHY (MC6)\":{\"DG\":-18,\"ss\":2.1},\\\n",
    "\"PVNDHOOV (MC9)\":{\"DG\":-4.6,\"ss\":1.8},\\\n",
    "\"QLNTLIPS (MC10)\":{\"DG\":-13,\"ss\":2.7},\\\n",
    "\"BMZQQOSL (MC2_1)\":{\"DG\":-12,\"ss\":2.19},\\\n",
    "\"CFRZAXWD (MC2_2)\":{\"DG\":-5.3,\"ss\":2.2},\\\n",
    "\"CGBTHRRH (MC2_3)\":{\"DG\":-7.6,\"ss\":2.7},\\\n",
    "\"CQXWMZNN (MC2_4)\":{\"DG\":-5,\"ss\":2.4},\\\n",
    "\"JZXIQIRH (MC2_7)\":{\"DG\":-10,\"ss\":2.7},\\\n",
    "\"WMNMRJMU (MC2_12)\":{\"DG\":-11,\"ss\":2.5},\\\n",
    "\"KVGAMRYX  (CAV1)\":{\"DG\":-4.78,\"ss\":2.02},\\\n",
    "\"VMXPYKBP (CAV6)\":{\"DG\":-12.7,\"ss\":2.3},\\\n",
    "\"CLYISCOE (POK3)\":{\"DG\":-5.83,\"ss\":1.66},\\\n",
    "\"UZNDBWRV (POK10)\":{\"DG\":-5.95,\"ss\":1.90},\\\n",
    "\"XXUZVSNH (POK11)\":{\"DG\":-6.75,\"ss\":1.78}}\n",
    "df = pd.DataFrame.from_dict(data,orient='index')\n",
    "fig1 = sns.regplot(df.ss,df.DG*-1,ci=None,color='k')\n",
    "sns.regplot(df.ss.loc[rd1],df.DG.loc[rd1]*-1,ci=None,fit_reg=False,color='b',label='Round 1')\n",
    "sns.regplot(df.ss.loc[rd2],df.DG.loc[rd2]*-1,ci=None,fit_reg=False,color='r',label='Round 2')\n",
    "fig1.set_ylabel(r\"$\\Delta G_{unfolding}$\", fontsize=15)\n",
    "fig1.set_xlabel('Stability score', fontsize=15)\n",
    "plt.legend()\n",
    "plt.show()\n",
    "print(\"Pearson R: %0.2f p-val: %0.3f\"%scp.stats.pearsonr(df.ss,df.DG*-1))"
   ]
  },
  {
   "cell_type": "markdown",
   "metadata": {},
   "source": [
    "### New unfolded state model data"
   ]
  },
  {
   "cell_type": "code",
   "execution_count": 5,
   "metadata": {},
   "outputs": [],
   "source": [
    "features_df = pd.read_csv('./all_new_des_features_saved_regenerated.csv',index_col=0)\n",
    "Stability_df = pd.read_csv('./chip12_comp_USM_n_stability.csv',index_col=1)"
   ]
  },
  {
   "cell_type": "code",
   "execution_count": 8,
   "metadata": {},
   "outputs": [],
   "source": [
    "features_df.index = [ i.split('_')[0] for i in features_df.index ]\n",
    "\n",
    "Stability_df_chip2 = Stability_df.where(Stability_df.chip_order == 'chip2').dropna()\n",
    "Stability_df_chip2_high_conf = Stability_df_chip2.where(Stability_df_chip2.ec50_t_width < 2.0 ).dropna()\\\n",
    "                               .where(Stability_df_chip2.ec50_c_width < 2.0 ).dropna()\n",
    "Stability_df_chip2_high_conf['stability_score'] = \\\n",
    "                       np.log10(3)*np.minimum(Stability_df_chip2_high_conf.stabilityscore_c_MGM.values,\\\n",
    "                       Stability_df_chip2_high_conf.stabilityscore_t_MGM.values)\n",
    "\n",
    "controls = ['BBM1pem','BBMHCYm',\\\n",
    "           'BB47nHm','BBM1pam',\\\n",
    "           'BB45CHm','BBM1TPm',\\\n",
    "           'BB47CHm','BBM2nHm',\\\n",
    "           'BBM1nHm','BB45nHm']\n",
    "Stability_df_clean = Stability_df_chip2_high_conf\n",
    "renaming_dict = {'sc':'scrambles','tl':'trp_ctrl','gr':'gly_ctrl'}\n",
    "Stability_df_clean['subfam'] = np.array([ renaming_dict[i[:2]] if i[:2] in renaming_dict.keys() else 'control' if (i[:7] in controls) else 'design' for i in Stability_df_clean.index])\n",
    "\n",
    "features_clean = features_df[[i for i in features_df.columns if i!='stability_score']].loc[features_df.index.intersection(Stability_df_clean.index)]\n",
    "features_clean['subfam'] = Stability_df_clean.loc[Stability_df_clean.index.intersection(features_clean.index)]['subfam'].values\n",
    "features_clean['stability_score'] = Stability_df_clean.loc[features_clean.index].stability_score.values\n",
    "\n",
    "\n",
    "Stability_df_chip1 = Stability_df.where(Stability_df.chip_order == 'chip1').dropna()\n",
    "Stability_df_chip1_high_conf = Stability_df_chip1.where(Stability_df_chip1.ec50_t_width < 2.0 ).dropna()\\\n",
    "                               .where(Stability_df_chip1.ec50_c_width < 2.0 ).dropna()\n",
    "Stability_df_chip1_high_conf['stability_score'] = \\\n",
    "                       np.log10(3)*np.minimum(Stability_df_chip1_high_conf.stabilityscore_c_MGM.values,\\\n",
    "                       Stability_df_chip1_high_conf.stabilityscore_t_MGM.values)\n",
    "\n"
   ]
  },
  {
   "cell_type": "code",
   "execution_count": 9,
   "metadata": {},
   "outputs": [
    {
     "data": {
      "image/png": "[encoded data removed]",
      "text/plain": [
       "<Figure size 432x288 with 1 Axes>"
      ]
     },
     "metadata": {
      "needs_background": "light"
     },
     "output_type": "display_data"
    },
    {
     "name": "stdout",
     "output_type": "stream",
     "text": [
      "Pearson R: -0.07 p-val: 0.753\n"
     ]
    }
   ],
   "source": [
    "rd1 = [\"BBM2nHm0111\",\n",
    "\"BBM2nHm0481\",\n",
    "\"BBM2nHm0589\",\n",
    "\"BBMHCYm0000\",\n",
    "\"BBMHCYm0098\",\n",
    "\"BBMHCYm0142\",\n",
    "\"BB47nHm0104\"]\n",
    "rd2 = [\"IPQZYEHY (MC6)\",\n",
    "\"PVNDHOOV (MC9)\",\n",
    "\"QLNTLIPS (MC10)\",\n",
    "\"BMZQQOSL (MC2_1)\",\n",
    "\"CFRZAXWD (MC2_2)\",\n",
    "\"CGBTHRRH (MC2_3)\",\n",
    "\"CQXWMZNN (MC2_4)\",\n",
    "\"JZXIQIRH (MC2_7)\",\n",
    "\"WMNMRJMU (MC2_12)\",\n",
    "\"KVGAMRYX  (CAV1)\",\n",
    "\"VMXPYKBP (CAV6)\",\n",
    "\"CLYISCOE (POK3)\",\n",
    "\"UZNDBWRV (POK10)\",\n",
    "\"XXUZVSNH (POK11)\"]\n",
    "data = {\"BBM2nHm0111\":{\"DG\":-5.71,\"ss\":Stability_df_chip1_high_conf.loc['BBM2nHm0111'].stability_score},\\\n",
    "\"BBM2nHm0481\":{\"DG\":-2.46,\"ss\":Stability_df_chip1_high_conf.loc['BBM2nHm0481'].stability_score},\\\n",
    "\"BBM2nHm0589\":{\"DG\":-6.42,\"ss\":Stability_df_chip1_high_conf.loc['BBM2nHm0589'].stability_score},\\\n",
    "\"BBMHCYm0000\":{\"DG\":-5.24,\"ss\":Stability_df_chip1_high_conf.loc['BBMHCYm0000'].stability_score},\\\n",
    "\"BBMHCYm0098\":{\"DG\":-5.82,\"ss\":Stability_df_chip1_high_conf.loc['BBMHCYm0098'].stability_score},\\\n",
    "\"BBMHCYm0142\":{\"DG\":-5.13,\"ss\":Stability_df_chip1_high_conf.loc['BBMHCYm0142'].stability_score},\\\n",
    "\"BB47nHm0104\":{\"DG\":-7.52,\"ss\":Stability_df_chip1_high_conf.loc['BB47nHm0104'].stability_score},\\\n",
    "\"IPQZYEHY (MC6)\":{\"DG\":-18,\"ss\":Stability_df_chip2_high_conf.loc['IPQZYEHY'].stability_score},\\\n",
    "\"PVNDHOOV (MC9)\":{\"DG\":-4.6,\"ss\":Stability_df_chip2_high_conf.loc['PVNDHOOV'].stability_score},\\\n",
    "\"QLNTLIPS (MC10)\":{\"DG\":-13,\"ss\":Stability_df_chip2_high_conf.loc['QLNTLIPS'].stability_score},\\\n",
    "\"BMZQQOSL (MC2_1)\":{\"DG\":-12,\"ss\":Stability_df_chip2_high_conf.loc['BMZQQOSL'].stability_score},\\\n",
    "\"CFRZAXWD (MC2_2)\":{\"DG\":-5.3,\"ss\":Stability_df_chip2_high_conf.loc['CFRZAXWD'].stability_score},\\\n",
    "\"CGBTHRRH (MC2_3)\":{\"DG\":-7.6,\"ss\":Stability_df_chip2_high_conf.loc['CGBTHRRH'].stability_score},\\\n",
    "\"CQXWMZNN (MC2_4)\":{\"DG\":-5,\"ss\":Stability_df_chip2_high_conf.loc['CQXWMZNN'].stability_score},\\\n",
    "\"JZXIQIRH (MC2_7)\":{\"DG\":-10,\"ss\":Stability_df_chip2_high_conf.loc['JZXIQIRH'].stability_score},\\\n",
    "\"WMNMRJMU (MC2_12)\":{\"DG\":-11,\"ss\":Stability_df_chip2_high_conf.loc['WMNMRJMU'].stability_score},\\\n",
    "\"KVGAMRYX  (CAV1)\":{\"DG\":-4.78,\"ss\":Stability_df_chip2_high_conf.loc['KVGAMRYX'].stability_score},\\\n",
    "\"VMXPYKBP (CAV6)\":{\"DG\":-12.7,\"ss\":Stability_df_chip2_high_conf.loc['VMXPYKBP'].stability_score},\\\n",
    "\"CLYISCOE (POK3)\":{\"DG\":-5.83,\"ss\":Stability_df_chip2_high_conf.loc['CLYISCOE'].stability_score},\\\n",
    "\"UZNDBWRV (POK10)\":{\"DG\":-5.95,\"ss\":Stability_df_chip2_high_conf.loc['UZNDBWRV'].stability_score},\\\n",
    "\"XXUZVSNH (POK11)\":{\"DG\":-6.75,\"ss\":Stability_df_chip2_high_conf.loc['XXUZVSNH'].stability_score}}\n",
    "df = pd.DataFrame.from_dict(data,orient='index')\n",
    "fig1 = sns.regplot(df.ss,df.DG*-1,ci=None,color='k')\n",
    "sns.regplot(df.ss.loc[rd1],df.DG.loc[rd1]*-1,ci=None,fit_reg=False,color='b',label='Round 1')\n",
    "sns.regplot(df.ss.loc[rd2],df.DG.loc[rd2]*-1,ci=None,fit_reg=False,color='r',label='Round 2')\n",
    "fig1.set_ylabel(r\"$\\Delta G_{unfolding}$\", fontsize=15)\n",
    "fig1.set_xlabel('Stability score (Molten Globule Model)', fontsize=15)\n",
    "plt.legend()\n",
    "plt.show()\n",
    "print(\"Pearson R: %0.2f p-val: %0.3f\"%scp.stats.pearsonr(df.ss,df.DG*-1))"
   ]
  },
  {
   "cell_type": "code",
   "execution_count": 10,
   "metadata": {},
   "outputs": [],
   "source": [
    "Tested = ['APXUALRM',\n",
    "'CNOCZZYN',\n",
    "'IPQZYEHY',\n",
    "'MQGQLKLY',\n",
    "'NPHNECCY',\n",
    "'PVNDHOOV',\n",
    "'QLNTLIPS',\n",
    "'QPAJWNJL',\n",
    "'RWBLOJXV',\n",
    "'BMZQQOSL',\n",
    "'CFRZAXWD',\n",
    "'CGBTHRRH',\n",
    "'DEZFDZKN',\n",
    "'CQXWMZNN',\n",
    "'DFEBCGLM',\n",
    "'JZXIQIRH',\n",
    "'ODCAZTIO',\n",
    "'UTEWRJFN',\n",
    "'WMNMRJMU',\n",
    "'KVGAMRYX',\n",
    "'MTNNCMGU',\n",
    "'OBJWKGFB',\n",
    "'QZFIQMXG',\n",
    "'VJZGDPLE',\n",
    "'VMXPYKBP',\n",
    "'AFUBUPIX',\n",
    "'BBJJQJEH',\n",
    "'CLYISCOE',\n",
    "'ERSKGIDY',\n",
    "'GHJPMEUD',\n",
    "'KVTSDNGQ',\n",
    "'LQDGTTOJ',\n",
    "'MYWJWGMP',\n",
    "'UBQRFAXL',\n",
    "'UZNDBWRV',\n",
    "'XXUZVSNH',\n",
    "'ZSETTDDT']\n",
    "Results = [0,\n",
    "0,\n",
    "1,\n",
    "0,\n",
    "0,\n",
    "1,\n",
    "1,\n",
    "0,\n",
    "0,\n",
    "1,\n",
    "1,\n",
    "1,\n",
    "0,\n",
    "1,\n",
    "0,\n",
    "1,\n",
    "0,\n",
    "0,\n",
    "1,\n",
    "0,\n",
    "0,\n",
    "0,\n",
    "0,\n",
    "0,\n",
    "1,\n",
    "0,\n",
    "0,\n",
    "1,\n",
    "0,\n",
    "0,\n",
    "0,\n",
    "0,\n",
    "0,\n",
    "0,\n",
    "1,\n",
    "1,\n",
    "0]\n",
    "Stability_scores_tested = np.log10(3**Stability_df_chip2.loc[Tested].stabilityscore_USM.values)\n",
    "Stability_scores_tested_MGM = np.log10(3**Stability_df_chip2.loc[Tested].stabilityscore_MGM.values)"
   ]
  },
  {
   "cell_type": "code",
   "execution_count": 12,
   "metadata": {},
   "outputs": [],
   "source": [
    "import sklearn\n",
    "from sklearn.metrics import roc_curve, roc_auc_score, auc"
   ]
  },
  {
   "cell_type": "code",
   "execution_count": 13,
   "metadata": {},
   "outputs": [
    {
     "data": {
      "image/png": "[encoded data removed]",
      "text/plain": [
       "<Figure size 432x288 with 1 Axes>"
      ]
     },
     "metadata": {
      "needs_background": "light"
     },
     "output_type": "display_data"
    }
   ],
   "source": [
    "fpr, tpr, thresholds = roc_curve(Results, Stability_scores_tested, pos_label=None)\n",
    "nfpr, ntpr, nthresholds = roc_curve(Results, Stability_scores_tested_MGM, pos_label=None)\n",
    "\n",
    "plt.plot(fpr,tpr,label=\"Original Stability score, AUC: %0.2f\"%(roc_auc_score(Results, Stability_scores_tested)))\n",
    "plt.plot(nfpr,ntpr,label=\"MGM Stability score, AUC: %0.2f\"%(roc_auc_score(Results, Stability_scores_tested_MGM)))\n",
    "plt.legend()\n",
    "plt.show()"
   ]
  },
  {
   "cell_type": "code",
   "execution_count": null,
   "metadata": {},
   "outputs": [],
   "source": []
  }
 ],
 "metadata": {
  "kernelspec": {
   "display_name": "Python [conda env:pyrosetta]",
   "language": "python",
   "name": "conda-env-pyrosetta-py"
  },
  "language_info": {
   "codemirror_mode": {
    "name": "ipython",
    "version": 3
   },
   "file_extension": ".py",
   "mimetype": "text/x-python",
   "name": "python",
   "nbconvert_exporter": "python",
   "pygments_lexer": "ipython3",
   "version": "3.7.5"
  }
 },
 "nbformat": 4,
 "nbformat_minor": 2
}
