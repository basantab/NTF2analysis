{
 "cells": [
  {
   "cell_type": "code",
   "execution_count": 1,
   "metadata": {},
   "outputs": [],
   "source": [
    "%matplotlib inline\n",
    "import matplotlib as mpl\n",
    "import matplotlib.pyplot as plt\n",
    "import pandas as pd\n",
    "import seaborn as sns\n",
    "import numpy as np\n",
    "import glob\n",
    "import scipy as scp\n",
    "from copy import copy"
   ]
  },
  {
   "cell_type": "code",
   "execution_count": 2,
   "metadata": {},
   "outputs": [
    {
     "name": "stderr",
     "output_type": "stream",
     "text": [
      "/software/conda/envs/pyrosetta/lib/python3.7/site-packages/ipykernel_launcher.py:1: FutureWarning: from_csv is deprecated. Please use read_csv(...) instead. Note that some of the default arguments are different, so please refer to the documentation for from_csv when changing your function calls\n",
      "  \"\"\"Entry point for launching an IPython kernel.\n"
     ]
    }
   ],
   "source": [
    "raw_seq_data = pd.DataFrame.from_csv('./output_seq_met_extended.csv')\n"
   ]
  },
  {
   "cell_type": "code",
   "execution_count": 3,
   "metadata": {},
   "outputs": [
    {
     "name": "stderr",
     "output_type": "stream",
     "text": [
      "/software/conda/envs/pyrosetta/lib/python3.7/site-packages/ipykernel_launcher.py:1: FutureWarning: from_csv is deprecated. Please use read_csv(...) instead. Note that some of the default arguments are different, so please refer to the documentation for from_csv when changing your function calls\n",
      "  \"\"\"Entry point for launching an IPython kernel.\n"
     ]
    },
    {
     "name": "stdout",
     "output_type": "stream",
     "text": [
      "Background success rate: 0.2134\n"
     ]
    }
   ],
   "source": [
    "des_stability_data = pd.DataFrame.from_csv('../Chip1_protease_analysis/chip1_clean_features2.csv')\n",
    "des_names = [i for i in des_stability_data.index]\n",
    "stable_desnames = des_stability_data.index[des_stability_data['stability_score']>=1.0].tolist()\n",
    "unstable_desnames = des_stability_data.index[des_stability_data['stability_score']<1.0].tolist()\n",
    "dimeric_desnames = des_stability_data.index[des_stability_data['Subunits']==2.0].tolist()\n",
    "m_stable_desnames = [ i for i in stable_desnames if i not in dimeric_desnames ]\n",
    "m_unstable_desnames = [ i for i in unstable_desnames if i not in dimeric_desnames ]\n",
    "m_desnames = [ i for i in des_names if i not in dimeric_desnames ]\n",
    "d_stable_desnames = [ i for i in stable_desnames if i in dimeric_desnames ]\n",
    "d_unstable_desnames = [ i for i in unstable_desnames if i in dimeric_desnames ]\n",
    "d_desnames = [ i for i in des_names if i in dimeric_desnames ]\n",
    "stable_mon_raw_seq_data = raw_seq_data.loc[m_stable_desnames]\n",
    "unstable_mon_raw_seq_data = raw_seq_data.loc[m_unstable_desnames]\n",
    "mon_raw_seq_data = raw_seq_data.loc[m_desnames]\n",
    "stable_dim_raw_seq_data = raw_seq_data.loc[d_stable_desnames]\n",
    "unstable_dim_raw_seq_data = raw_seq_data.loc[d_unstable_desnames]\n",
    "dim_raw_seq_data = raw_seq_data.loc[d_desnames]\n",
    "bg_sc_m =  float(len(m_stable_desnames))/float(len(m_desnames))\n",
    "print('Background success rate: %0.4f'%bg_sc_m)"
   ]
  },
  {
   "cell_type": "code",
   "execution_count": 4,
   "metadata": {},
   "outputs": [],
   "source": [
    "mon_suc_rate = float(len(m_stable_desnames))/float(len(m_desnames))\n",
    "def get_aa_enrich_mon(pos,aa):\n",
    "    # stable stuff:\n",
    "    n_success = [i for i in stable_mon_raw_seq_data[str(pos)].values].count(aa)\n",
    "    n_unsuccess = [i for i in unstable_mon_raw_seq_data[str(pos)].values].count(aa)\n",
    "    p_val = scp.stats.binom_test([n_success,n_unsuccess],mon_suc_rate)\n",
    "    no_x_s = [i for i in stable_mon_raw_seq_data[str(pos)]].count('X')\n",
    "    no_x = [i for i in mon_raw_seq_data[str(pos)]].count('X')\n",
    "    stable_prop = float([i for i in stable_mon_raw_seq_data[str(pos)].values].count(aa))/(len(stable_mon_raw_seq_data[str(pos)].values)-no_x_s)\n",
    "    prop = float([i for i in mon_raw_seq_data[str(pos)].values].count(aa))/(len(mon_raw_seq_data[str(pos)].values)-no_x)\n",
    "    '''if (prop == 0.0):\n",
    "        return 1\n",
    "    else: return 0'''\n",
    "    if (prop == 0.0):\n",
    "        return 99.0\n",
    "    if p_val > 0.05:\n",
    "        return 0.0\n",
    "    if(stable_prop == 0.0) :\n",
    "        return -99.0\n",
    "    else:\n",
    "        return np.log(stable_prop/prop)\n",
    "#aas = ['A','D','E','F','G','H','I','K','L','M','N','P','Q','R','S','T','V','W','Y']\n",
    "aas = ['S','T','D','E','N','Q','H','K','R','G','P','F','Y','W','M','L','I','V','A']\n",
    "\n",
    "processed_dict = { pos:{ aa:get_aa_enrich_mon(pos,aa) for aa in aas } for pos in range(65) }\n",
    "final_df = pd.DataFrame.from_dict(processed_dict)\n",
    "\n",
    "final_df.index = pd.CategoricalIndex(final_df.index, categories= aas )\n",
    "final_df.sort_index(level=0, inplace=True)"
   ]
  },
  {
   "cell_type": "code",
   "execution_count": 5,
   "metadata": {},
   "outputs": [
    {
     "data": {
      "image/png": "[encoded data removed]",
      "text/plain": [
       "<Figure size 1440x576 with 2 Axes>"
      ]
     },
     "metadata": {
      "needs_background": "light"
     },
     "output_type": "display_data"
    }
   ],
   "source": [
    "fig, ax = plt.subplots(figsize=(20,8))\n",
    "cmap = copy(plt.cm.RdYlGn)\n",
    "cmap.set_over('xkcd:silver',1.0)\n",
    "#cmap.set_under('xkcd:darkblue',1.0)\n",
    "sns.heatmap(final_df,vmin=-2.0,vmax=2.0,ax=ax,cmap=cmap)\n",
    "#\n",
    "plt.savefig('./monomers_seq_features_extended.png', transparent=True)"
   ]
  },
  {
   "cell_type": "code",
   "execution_count": 7,
   "metadata": {},
   "outputs": [],
   "source": [
    "mon_suc_rate = float(len(m_stable_desnames))/float(len(m_desnames))\n",
    "def get_aa_enrich_mon(pos,cat):\n",
    "    category_dict = {\\\n",
    "    'Hydrophobic':['F','Y','W','M','L','I','V','A'],\\\n",
    "    'Hydrophilic':['S','T','D','E','N','Q','H','K','R'],\\\n",
    "    'Glycine':['G'],\\\n",
    "    'Proline':['P'],\\\n",
    "    }\n",
    "    n_success = sum( [ [i for i in stable_mon_raw_seq_data[str(pos)].values].count(aa) for aa in category_dict[cat]])\n",
    "    n_unsuccess = sum( [[i for i in unstable_mon_raw_seq_data[str(pos)].values].count(aa) for aa in category_dict[cat]])\n",
    "    p_val = scp.stats.binom_test([n_success,n_unsuccess],mon_suc_rate)\n",
    "    no_x_s = [i for i in stable_mon_raw_seq_data[str(pos)]].count('X')\n",
    "    no_x = [i for i in mon_raw_seq_data[str(pos)]].count('X')\n",
    "    stable_prop = float( sum( [ [i for i in stable_mon_raw_seq_data[str(pos)].values].count(aa) for aa in category_dict[cat]] ))/(len(stable_mon_raw_seq_data[str(pos)].values)-no_x_s)\n",
    "    prop = float(sum( [ [i for i in mon_raw_seq_data[str(pos)].values].count(aa)for aa in category_dict[cat]] ))/(len(mon_raw_seq_data[str(pos)].values)-no_x)\n",
    "    '''if (prop == 0.0):\n",
    "        return 1\n",
    "    else: return 0'''\n",
    "    if (prop == 0.0):\n",
    "        return 99.0\n",
    "    if p_val > 0.05:\n",
    "        return 0.0\n",
    "    if(stable_prop == 0.0) :\n",
    "        return -99.0\n",
    "    else:\n",
    "        return np.log10(stable_prop/prop)\n",
    "#aas = ['A','D','E','F','G','H','I','K','L','M','N','P','Q','R','S','T','V','W','Y']\n",
    "aas = ['S','T','D','E','N','Q','H','K','R','G','P','F','Y','W','M','L','I','V','A']\n",
    "categories = ['Hydrophobic','Hydrophilic','Glycine','Proline']\n",
    "processed_dict = { pos:{ cat:get_aa_enrich_mon(pos,cat) for cat in categories } for pos in range(65) }\n",
    "final_df = pd.DataFrame.from_dict(processed_dict)\n",
    "\n",
    "final_df.index = pd.CategoricalIndex(final_df.index, categories= categories )\n",
    "final_df.sort_index(level=0, inplace=True)"
   ]
  },
  {
   "cell_type": "code",
   "execution_count": 8,
   "metadata": {},
   "outputs": [
    {
     "data": {
      "image/png": "[encoded data removed]",
      "text/plain": [
       "<Figure size 1440x288 with 2 Axes>"
      ]
     },
     "metadata": {
      "needs_background": "light"
     },
     "output_type": "display_data"
    }
   ],
   "source": [
    "fig, ax = plt.subplots(figsize=(20,4))\n",
    "cmap = copy(plt.cm.RdYlGn)\n",
    "cmap.set_over('xkcd:silver',1.0)\n",
    "#cmap.set_under('xkcd:darkblue',1.0)\n",
    "\n",
    "sns.heatmap(final_df,vmin=-1.0,vmax=1.0,ax=ax,cmap=cmap)\n",
    "sns.set(font_scale=1.4)\n",
    "ax.vlines([i for i in range(1,65)], *ax.get_ylim(),colors='w')\n",
    "#\n",
    "plt.savefig('./monomers_seq_features_extended_Rd1chip.png', transparent=True)"
   ]
  },
  {
   "cell_type": "code",
   "execution_count": null,
   "metadata": {},
   "outputs": [],
   "source": []
  },
  {
   "cell_type": "code",
   "execution_count": null,
   "metadata": {},
   "outputs": [],
   "source": []
  }
 ],
 "metadata": {
  "kernelspec": {
   "display_name": "PyRosetta (Python 3.7)",
   "language": "python",
   "name": "pyrosetta"
  },
  "language_info": {
   "codemirror_mode": {
    "name": "ipython",
    "version": 3
   },
   "file_extension": ".py",
   "mimetype": "text/x-python",
   "name": "python",
   "nbconvert_exporter": "python",
   "pygments_lexer": "ipython3",
   "version": "3.7.1"
  }
 },
 "nbformat": 4,
 "nbformat_minor": 2
}
